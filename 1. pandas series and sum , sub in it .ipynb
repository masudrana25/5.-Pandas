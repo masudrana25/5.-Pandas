{
 "cells": [
  {
   "cell_type": "markdown",
   "metadata": {},
   "source": [
    "pandas series and arithmatic operation in it "
   ]
  },
  {
   "cell_type": "code",
   "execution_count": 2,
   "metadata": {},
   "outputs": [],
   "source": [
    "import pandas as pd"
   ]
  },
  {
   "cell_type": "markdown",
   "metadata": {},
   "source": [
    "Python List"
   ]
  },
  {
   "cell_type": "code",
   "execution_count": null,
   "metadata": {},
   "outputs": [],
   "source": [
    "py_list = [1,2,3,4,'masud','sabbir']\n",
    "# print(py_list)"
   ]
  },
  {
   "cell_type": "markdown",
   "metadata": {},
   "source": [
    "Python List convert to Pandas Series"
   ]
  },
  {
   "cell_type": "code",
   "execution_count": null,
   "metadata": {},
   "outputs": [],
   "source": [
    "pd_series = pd.Series(py_list)\n",
    "# print(pd_series)"
   ]
  },
  {
   "cell_type": "markdown",
   "metadata": {},
   "source": [
    "Pandas Series "
   ]
  },
  {
   "cell_type": "code",
   "execution_count": 7,
   "metadata": {},
   "outputs": [],
   "source": [
    "pd_series_1 = pd.Series([1,2,3,4,5])\n",
    "pd_series_2 = pd.Series([6,7,8,9,10])\n",
    "# print(pd_series_1)\n",
    "# print(type(pd_series_1)) # <class 'pandas.core.series.Series'>"
   ]
  },
  {
   "cell_type": "markdown",
   "metadata": {},
   "source": [
    "Empty Series"
   ]
  },
  {
   "cell_type": "code",
   "execution_count": null,
   "metadata": {},
   "outputs": [],
   "source": [
    "pd_series_0 = pd.Series([])\n",
    "print(pd_series_0)"
   ]
  },
  {
   "cell_type": "markdown",
   "metadata": {},
   "source": [
    "Index of Series"
   ]
  },
  {
   "cell_type": "code",
   "execution_count": null,
   "metadata": {},
   "outputs": [],
   "source": [
    "pd_series_1 = pd.Series([1,2,3,4,5]) \n",
    "# default index = [0,1,2,3,4,5,6...........]\n",
    "# print(pd_series_1)\n",
    "# print(pd_series_1.index) # RangeIndex(start=0, stop=5, step=1)\n",
    "\n",
    "pd_series_2 = pd.Series([6,7,8,9,10], index=['a','b','c','d','e'])\n",
    "# print(pd_series_2) \n",
    "# print(pd_series_2.index) # Index(['a', 'b', 'c', 'd', 'e'], dtype='object')"
   ]
  },
  {
   "cell_type": "markdown",
   "metadata": {},
   "source": [
    "Data Type of Series"
   ]
  },
  {
   "cell_type": "code",
   "execution_count": null,
   "metadata": {},
   "outputs": [],
   "source": [
    "pd_series_2 = pd.Series([6,7,8,9,10], index=['a','b','c','d','e'], dtype=float)\n",
    "# print(pd_series_2) \n",
    "# print(pd_series_2.dtype) # dtype: float64"
   ]
  },
  {
   "cell_type": "markdown",
   "metadata": {},
   "source": [
    "Name of Series"
   ]
  },
  {
   "cell_type": "code",
   "execution_count": null,
   "metadata": {},
   "outputs": [],
   "source": [
    "pd_series_2 = pd.Series([6,7,8,9,10], name = 'pandas series 2')\n",
    "# print(pd_series_2)\n",
    "# print(pd_series_2.name) # pandas series 2"
   ]
  },
  {
   "cell_type": "markdown",
   "metadata": {},
   "source": [
    "Scaler Series"
   ]
  },
  {
   "cell_type": "code",
   "execution_count": null,
   "metadata": {},
   "outputs": [],
   "source": [
    "scaler_series = pd.Series(0.5)\n",
    "# print(scaler_series)\n",
    "\n",
    "scaler_series_2 = pd.Series(0.5, index=[1,2,3,4])\n",
    "# print(scaler_series_2)"
   ]
  },
  {
   "cell_type": "markdown",
   "metadata": {},
   "source": [
    "dict series"
   ]
  },
  {
   "cell_type": "code",
   "execution_count": null,
   "metadata": {},
   "outputs": [],
   "source": [
    "dict_series = pd.Series({ 'a':2, 'b':3 , 'c':5})\n",
    "# print(dict_series)"
   ]
  },
  {
   "cell_type": "markdown",
   "metadata": {},
   "source": [
    "Find Elements with Index"
   ]
  },
  {
   "cell_type": "code",
   "execution_count": null,
   "metadata": {},
   "outputs": [],
   "source": [
    "pd_series = pd.Series([6,7,8,9,10])\n",
    "# first_element = pd_series[0] ; print(first_element)\n",
    "# last_element = pd_series[4] ; print(last_element)"
   ]
  },
  {
   "cell_type": "markdown",
   "metadata": {},
   "source": [
    "Slice Element to new Series"
   ]
  },
  {
   "cell_type": "code",
   "execution_count": null,
   "metadata": {},
   "outputs": [],
   "source": [
    "pd_series = pd.Series([6,7,8,9,10])\n",
    "# range_element = pd_series[0:3] ; print(range_element)\n",
    "# 0 index thekey suru korey 3 index er purbo porjonto\n",
    "\n",
    "# conditional_elemet = pd_series[pd_series <9] ; print(conditional_elemet)"
   ]
  },
  {
   "cell_type": "markdown",
   "metadata": {},
   "source": [
    "Max and Min of a Series"
   ]
  },
  {
   "cell_type": "code",
   "execution_count": null,
   "metadata": {},
   "outputs": [],
   "source": [
    "pd_series = pd.Series([6,7,8,9,10])\n",
    "# max = max(pd_series) ; print(max)\n",
    "# min = min(pd_series) ; print(min)"
   ]
  },
  {
   "cell_type": "markdown",
   "metadata": {},
   "source": [
    "Summation and Subtraction of Two Series"
   ]
  },
  {
   "cell_type": "code",
   "execution_count": null,
   "metadata": {},
   "outputs": [],
   "source": [
    "pd_series_1 = pd.Series([1,2,3,4,5])\n",
    "pd_series_2 = pd.Series([6,7,8,9,10])\n",
    "pd_series_3 = pd.Series([6,7,8])\n",
    "\n",
    "# sum = pd_series_1 + pd_series_2 ; print(sum)\n",
    "\n",
    "# sub = pd_series_1 - pd_series_2 ; print(sub)\n",
    "\n",
    "# sum of series which size is not same\n",
    "# sum = pd_series_1 + pd_series_3 ; print(sum)"
   ]
  }
 ],
 "metadata": {
  "kernelspec": {
   "display_name": "Python 3",
   "language": "python",
   "name": "python3"
  },
  "language_info": {
   "codemirror_mode": {
    "name": "ipython",
    "version": 3
   },
   "file_extension": ".py",
   "mimetype": "text/x-python",
   "name": "python",
   "nbconvert_exporter": "python",
   "pygments_lexer": "ipython3",
   "version": "3.12.1"
  }
 },
 "nbformat": 4,
 "nbformat_minor": 2
}
