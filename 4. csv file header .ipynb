{
 "cells": [
  {
   "cell_type": "code",
   "execution_count": null,
   "metadata": {},
   "outputs": [],
   "source": [
    "import pandas as pd "
   ]
  },
  {
   "cell_type": "code",
   "execution_count": null,
   "metadata": {},
   "outputs": [],
   "source": [
    "csv_file = pd.read_csv('csv file test.csv')\n",
    "# csv_file"
   ]
  },
  {
   "cell_type": "markdown",
   "metadata": {},
   "source": [
    "Change Header "
   ]
  },
  {
   "cell_type": "code",
   "execution_count": null,
   "metadata": {},
   "outputs": [],
   "source": [
    "#### header hby row 2 and uporer baki rows gula thakbey na\n",
    "csv_header_row2 = pd.read_csv('csv file test.csv',header=2)\n",
    "# csv_header_row2"
   ]
  },
  {
   "cell_type": "markdown",
   "metadata": {},
   "source": [
    "Header None"
   ]
  },
  {
   "cell_type": "code",
   "execution_count": null,
   "metadata": {},
   "outputs": [],
   "source": [
    "#### first rows a new header add korbey number diye => 0,1,2,3,4...\n",
    "csv_header_none = pd.read_csv('csv file test.csv',header=None)\n",
    "# csv_header_none"
   ]
  },
  {
   "cell_type": "markdown",
   "metadata": {},
   "source": [
    "New Header with new text"
   ]
  },
  {
   "cell_type": "code",
   "execution_count": null,
   "metadata": {},
   "outputs": [],
   "source": [
    "csv_New_Header = pd.read_csv('csv file test.csv', names=['amir','jamil','sabir','kuddus']) \n",
    "# csv_New_Header"
   ]
  }
 ],
 "metadata": {
  "kernelspec": {
   "display_name": "Python 3",
   "language": "python",
   "name": "python3"
  },
  "language_info": {
   "codemirror_mode": {
    "name": "ipython",
    "version": 3
   },
   "file_extension": ".py",
   "mimetype": "text/x-python",
   "name": "python",
   "nbconvert_exporter": "python",
   "pygments_lexer": "ipython3",
   "version": "3.12.1"
  }
 },
 "nbformat": 4,
 "nbformat_minor": 2
}
