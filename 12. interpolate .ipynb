{
 "cells": [
  {
   "cell_type": "code",
   "execution_count": null,
   "metadata": {},
   "outputs": [],
   "source": [
    "import pandas as pd"
   ]
  },
  {
   "cell_type": "code",
   "execution_count": 2,
   "metadata": {},
   "outputs": [],
   "source": [
    "dataFrame = pd.read_excel('my discharge water level data.xlsx')\n",
    "# print(dataFrame)\n",
    "# print(type(dataFrame.Date[0]))\n",
    "\n",
    "# interpolate1 = dataFrame.interpolate()\n",
    "# print(interpolate1)\n",
    "\n",
    "# interpolate2 = dataFrame.interpolate( method='linear')\n",
    "# print(interpolate2)"
   ]
  },
  {
   "cell_type": "markdown",
   "metadata": {},
   "source": [
    "#### interpolate based on time"
   ]
  },
  {
   "cell_type": "code",
   "execution_count": null,
   "metadata": {},
   "outputs": [],
   "source": [
    "dataFrame1 = pd.read_excel('my discharge water level data.xlsx', parse_dates=['Date'], index_col= 'Date')\n",
    "\n",
    "# print(type(dataFrame1.index[0]))\n",
    "\n",
    "# interpolate3= dataFrame1.interpolate(method='time')\n",
    "# print(interpolate3) \n",
    "# interpolate3= dataFrame1.interpolate(method='index')\n",
    "# print(interpolate3) \n"
   ]
  },
  {
   "cell_type": "code",
   "execution_count": 10,
   "metadata": {},
   "outputs": [],
   "source": [
    "dataFrame1 = pd.read_excel('my discharge water level data.xlsx', parse_dates=['Date'], index_col= 'Date')\n",
    "# dataFrame1.index\n",
    "# dataFrame1.dtypes"
   ]
  },
  {
   "cell_type": "code",
   "execution_count": null,
   "metadata": {},
   "outputs": [],
   "source": [
    "interpolate3= dataFrame1.interpolate(method='linear', axis=0)\n",
    "print(interpolate3) "
   ]
  },
  {
   "cell_type": "code",
   "execution_count": null,
   "metadata": {},
   "outputs": [],
   "source": [
    "interpolate3= dataFrame1.interpolate(method='linear', axis=1)\n",
    "print(interpolate3) "
   ]
  },
  {
   "cell_type": "code",
   "execution_count": null,
   "metadata": {},
   "outputs": [],
   "source": []
  }
 ],
 "metadata": {
  "kernelspec": {
   "display_name": "Python 3",
   "language": "python",
   "name": "python3"
  },
  "language_info": {
   "codemirror_mode": {
    "name": "ipython",
    "version": 3
   },
   "file_extension": ".py",
   "mimetype": "text/x-python",
   "name": "python",
   "nbconvert_exporter": "python",
   "pygments_lexer": "ipython3",
   "version": "3.12.1"
  }
 },
 "nbformat": 4,
 "nbformat_minor": 2
}
