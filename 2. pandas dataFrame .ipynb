{
 "cells": [
  {
   "cell_type": "markdown",
   "metadata": {},
   "source": [
    "Pandas DataFrame "
   ]
  },
  {
   "cell_type": "code",
   "execution_count": null,
   "metadata": {},
   "outputs": [],
   "source": [
    "import pandas as pd"
   ]
  },
  {
   "cell_type": "markdown",
   "metadata": {},
   "source": [
    "# Create Pandas DataFrame"
   ]
  },
  {
   "cell_type": "markdown",
   "metadata": {},
   "source": [
    "Empty DataFrame"
   ]
  },
  {
   "cell_type": "code",
   "execution_count": null,
   "metadata": {},
   "outputs": [],
   "source": [
    "empty_dataFrame = pd.DataFrame() ; print(empty_dataFrame)"
   ]
  },
  {
   "cell_type": "markdown",
   "metadata": {},
   "source": [
    "DataFrame from List"
   ]
  },
  {
   "cell_type": "markdown",
   "metadata": {},
   "source": [
    "For 1-D"
   ]
  },
  {
   "cell_type": "code",
   "execution_count": null,
   "metadata": {},
   "outputs": [],
   "source": [
    "list_1 = ['a','b','c'] ; # print(list_1)\n",
    "dataFrame_from_list = pd.DataFrame(list_1) ; # print(dataFrame_from_list)\n",
    "dataFrame_from_list # just variable name ta likhley besi korey print korby value gula"
   ]
  },
  {
   "cell_type": "markdown",
   "metadata": {},
   "source": [
    "For 2-D"
   ]
  },
  {
   "cell_type": "code",
   "execution_count": null,
   "metadata": {},
   "outputs": [],
   "source": [
    "list_1 = [ [1,2,3],[4,5,6],[7,8,9]] \n",
    "dataFrame_from_list = pd.DataFrame(list_1)\n",
    "# dataFrame_from_list"
   ]
  },
  {
   "cell_type": "markdown",
   "metadata": {},
   "source": [
    "# dataFrame from Dictionary"
   ]
  },
  {
   "cell_type": "code",
   "execution_count": null,
   "metadata": {},
   "outputs": [],
   "source": [
    "dict1 = { 'ID' : [1,2,3,4,5]} ; # print(dict1)\n",
    "dataFrame_from_dict1 = pd.DataFrame(dict1) \n",
    "# dataFrame_from_dict1\n",
    "\n",
    "dict2 = { 'ID' : [1,2,3,4,5], 'Name' : ['Anis','Masud','Jabbar','Setu','Khadim']} ; # print(dict2)\n",
    "dataFrame_from_dict2 = pd.DataFrame(dict2) \n",
    "# dataFrame_from_dict2\n",
    "\n",
    "dict3 = [ {'a':1,'b':2},{'a':3,'b':4}] ; # print(dict3)\n",
    "dataFrame_from_dict3 = pd.DataFrame(dict3) \n",
    "# dataFrame_from_dict3\n",
    "\n",
    "# size not same\n",
    "dict4 = [ {'a':1,'b':2},{'a':3,'b':4, 'c':6}] ; # print(dict4)\n",
    "dataFrame_from_dict4 = pd.DataFrame(dict4) \n",
    "# dataFrame_from_dict4"
   ]
  },
  {
   "cell_type": "markdown",
   "metadata": {},
   "source": [
    "DataFrame from dict series"
   ]
  },
  {
   "cell_type": "code",
   "execution_count": null,
   "metadata": {},
   "outputs": [],
   "source": [
    "dict2 = { 'ID' : pd.Series([1,2,3,4,5]), 'Name' : pd.Series(['Anis','Masud','Jabbar','Setu','Khadim'])} \n",
    "# print(dict2)\n",
    "dataFrame_from_dict2 = pd.DataFrame(dict2) \n",
    "dataFrame_from_dict2"
   ]
  }
 ],
 "metadata": {
  "kernelspec": {
   "display_name": "Python 3",
   "language": "python",
   "name": "python3"
  },
  "language_info": {
   "codemirror_mode": {
    "name": "ipython",
    "version": 3
   },
   "file_extension": ".py",
   "mimetype": "text/x-python",
   "name": "python",
   "nbconvert_exporter": "python",
   "pygments_lexer": "ipython3",
   "version": "3.12.1"
  }
 },
 "nbformat": 4,
 "nbformat_minor": 2
}
